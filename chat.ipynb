{
 "cells": [
  {
   "cell_type": "code",
   "execution_count": 1,
   "metadata": {},
   "outputs": [
    {
     "name": "stderr",
     "output_type": "stream",
     "text": [
      "c:\\Users\\arjun.sreekumar\\AppData\\Local\\anaconda3\\envs\\gemini-pro\\lib\\site-packages\\tqdm\\auto.py:21: TqdmWarning: IProgress not found. Please update jupyter and ipywidgets. See https://ipywidgets.readthedocs.io/en/stable/user_install.html\n",
      "  from .autonotebook import tqdm as notebook_tqdm\n"
     ]
    }
   ],
   "source": [
    "# Q&A Chatbot\n",
    "#from langchain.llms import OpenAI\n",
    "\n",
    "from dotenv import load_dotenv\n",
    "\n",
    "load_dotenv()  # take environment variables from .env.\n",
    "\n",
    "import streamlit as st\n",
    "import os\n",
    "import pathlib\n",
    "import textwrap\n",
    "\n",
    "import google.generativeai as genai\n",
    "\n",
    "from IPython.display import display\n",
    "from IPython.display import Markdown\n",
    "\n",
    "\n",
    "os.getenv(\"GOOGLE_API_KEY\")\n",
    "genai.configure(api_key=os.getenv(\"GOOGLE_API_KEY\"))\n"
   ]
  },
  {
   "cell_type": "code",
   "execution_count": 2,
   "metadata": {},
   "outputs": [],
   "source": [
    "## Function to load OpenAI model and get respones\n",
    "model = genai.GenerativeModel('gemini-pro')\n",
    "chat = model.start_chat(history=[])\n",
    "def get_gemini_response(question):\n",
    "    \n",
    "    response =chat.send_message(question,stream=True)\n",
    "    return response\n"
   ]
  },
  {
   "cell_type": "code",
   "execution_count": 3,
   "metadata": {},
   "outputs": [
    {
     "name": "stdout",
     "output_type": "stream",
     "text": [
      "The Response is\n",
      "\n",
      "In the enigmatic realm of the Eternal Forest, where towering trees whispered ancient secrets and\n",
      "________________________________________________________________________________\n",
      " the air hummed with the melody of unseen life, there lived a young woman named Anya. Blessed with an unquenchable thirst for adventure and a heart as\n",
      "________________________________________________________________________________\n",
      " pure as the morning dew, Anya spent her days exploring the forest's hidden paths.\n",
      "\n",
      "One fateful afternoon, as she ventured deeper into the heart of the forest, Anya stumbled upon an ancient oak tree. Its gnarled roots spread across the ground like the arms of a sleeping giant, and its canopy reached towards the\n",
      "________________________________________________________________________________\n",
      " heavens, casting an eerie shadow upon the surroundings. Intrigued, Anya approached the tree cautiously.\n",
      "\n",
      "As she drew near, a gentle breeze carried the faint scent of jasmine and honeysuckle, and the wind seemed to whisper a name that sent shivers down her spine: \"Athera.\" Anya's heart pounded in anticipation as she reached out to touch the tree's rough bark.\n",
      "\n",
      "Suddenly, the tree began to tremble violently. The ground beneath Anya's feet shook, and the leaves of the surrounding trees rustled and danced as if possessed by an unseen force. To Anya's astonishment, a shimmering portal emerged from\n",
      "________________________________________________________________________________\n",
      " the trunk of the oak tree, its emerald glow beckoning her inward.\n",
      "\n",
      "With a mix of trepidation and exhilaration, Anya stepped through the portal and found herself in a realm unlike anything she had ever seen before. Verdant hills rolled away to the horizon, dotted with vibrant wildflowers and crystalline streams. The air was alive with the songs of birds and the gentle buzz of bees.\n",
      "\n",
      "As Anya wandered through this enchanted land, she encountered creatures she had never dreamed possible. There were talking rabbits with shimmering fur, wise owls with piercing eyes, and mischievous squirrels that chattered merrily overhead. With each step, she felt a sense of wonder and belonging that she had never experienced before.\n",
      "\n",
      "But as the sun began to dip below the horizon, casting long shadows across the land, Anya realized that it was time to return. With a heavy heart, she bid farewell to her new friends and stepped back through the portal.\n",
      "\n",
      "As she emerged back into the Eternal Forest, Anya knew that her life would never be the same. She had discovered a secret realm, a place where magic and wonder lived in perfect harmony. And from that day forward, she carried the memory of her adventure in her heart, always whispering the name \"Athera\" when she yearned for a\n",
      "________________________________________________________________________________\n",
      " taste of the extraordinary.\n",
      "________________________________________________________________________________\n",
      "[parts {\n",
      "  text: \"tell me a story\"\n",
      "}\n",
      "role: \"user\"\n",
      ", parts {\n",
      "  text: \"In the enigmatic realm of the Eternal Forest, where towering trees whispered ancient secrets and the air hummed with the melody of unseen life, there lived a young woman named Anya. Blessed with an unquenchable thirst for adventure and a heart as pure as the morning dew, Anya spent her days exploring the forest\\'s hidden paths.\\n\\nOne fateful afternoon, as she ventured deeper into the heart of the forest, Anya stumbled upon an ancient oak tree. Its gnarled roots spread across the ground like the arms of a sleeping giant, and its canopy reached towards the heavens, casting an eerie shadow upon the surroundings. Intrigued, Anya approached the tree cautiously.\\n\\nAs she drew near, a gentle breeze carried the faint scent of jasmine and honeysuckle, and the wind seemed to whisper a name that sent shivers down her spine: \\\"Athera.\\\" Anya\\'s heart pounded in anticipation as she reached out to touch the tree\\'s rough bark.\\n\\nSuddenly, the tree began to tremble violently. The ground beneath Anya\\'s feet shook, and the leaves of the surrounding trees rustled and danced as if possessed by an unseen force. To Anya\\'s astonishment, a shimmering portal emerged from the trunk of the oak tree, its emerald glow beckoning her inward.\\n\\nWith a mix of trepidation and exhilaration, Anya stepped through the portal and found herself in a realm unlike anything she had ever seen before. Verdant hills rolled away to the horizon, dotted with vibrant wildflowers and crystalline streams. The air was alive with the songs of birds and the gentle buzz of bees.\\n\\nAs Anya wandered through this enchanted land, she encountered creatures she had never dreamed possible. There were talking rabbits with shimmering fur, wise owls with piercing eyes, and mischievous squirrels that chattered merrily overhead. With each step, she felt a sense of wonder and belonging that she had never experienced before.\\n\\nBut as the sun began to dip below the horizon, casting long shadows across the land, Anya realized that it was time to return. With a heavy heart, she bid farewell to her new friends and stepped back through the portal.\\n\\nAs she emerged back into the Eternal Forest, Anya knew that her life would never be the same. She had discovered a secret realm, a place where magic and wonder lived in perfect harmony. And from that day forward, she carried the memory of her adventure in her heart, always whispering the name \\\"Athera\\\" when she yearned for a taste of the extraordinary.\"\n",
      "}\n",
      "role: \"model\"\n",
      "]\n"
     ]
    }
   ],
   "source": [
    "input=\"tell me a story\"\n",
    "response=get_gemini_response(input)\n",
    "print(\"The Response is\")\n",
    "print()\n",
    "for chunk in response:\n",
    "    print(chunk.text)\n",
    "    print(\"_\"*80)\n",
    "\n",
    "print(chat.history)"
   ]
  },
  {
   "cell_type": "code",
   "execution_count": 19,
   "metadata": {},
   "outputs": [
    {
     "name": "stdout",
     "output_type": "stream",
     "text": [
      "Current working directory: d:\\GenAI\\Gemini_end_to_end_project\\End-to-End-Gemini-Project\n"
     ]
    }
   ],
   "source": [
    "cwd = os.getcwd()\n",
    "print(\"Current working directory:\", cwd)\n"
   ]
  },
  {
   "cell_type": "code",
   "execution_count": 20,
   "metadata": {},
   "outputs": [
    {
     "name": "stdout",
     "output_type": "stream",
     "text": [
      "altair==5.3.0\n",
      "annotated-types==0.6.0\n",
      "asttokens @ file:///home/conda/feedstock_root/build_artifacts/asttokens_1698341106958/work\n",
      "attrs==23.2.0\n",
      "blinker==1.7.0\n",
      "cachetools==5.3.3\n",
      "certifi==2024.2.2\n",
      "charset-normalizer==3.3.2\n",
      "click==8.1.7\n",
      "colorama @ file:///home/conda/feedstock_root/build_artifacts/colorama_1666700638685/work\n",
      "comm @ file:///home/conda/feedstock_root/build_artifacts/comm_1710320294760/work\n",
      "debugpy @ file:///C:/b/abs_c0y1fjipt2/croot/debugpy_1690906864587/work\n",
      "decorator @ file:///home/conda/feedstock_root/build_artifacts/decorator_1641555617451/work\n",
      "exceptiongroup @ file:///home/conda/feedstock_root/build_artifacts/exceptiongroup_1704921103267/work\n",
      "executing @ file:///home/conda/feedstock_root/build_artifacts/executing_1698579936712/work\n",
      "gitdb==4.0.11\n",
      "GitPython==3.1.43\n",
      "google-ai-generativelanguage==0.4.0\n",
      "google-api-core==2.11.1\n",
      "google-auth==2.27.0\n",
      "google-generativeai==0.4.1\n",
      "googleapis-common-protos==1.63.0\n",
      "grpcio==1.62.1\n",
      "grpcio-status==1.62.1\n",
      "idna==3.6\n",
      "importlib_metadata @ file:///home/conda/feedstock_root/build_artifacts/importlib-metadata_1710971335535/work\n",
      "ipykernel @ file:///D:/bld/ipykernel_1708996677248/work\n",
      "ipython @ file:///D:/bld/ipython_1709559926914/work\n",
      "jedi @ file:///home/conda/feedstock_root/build_artifacts/jedi_1696326070614/work\n",
      "Jinja2==3.1.3\n",
      "jsonschema==4.21.1\n",
      "jsonschema-specifications==2023.12.1\n",
      "jupyter_client @ file:///home/conda/feedstock_root/build_artifacts/jupyter_client_1710255804825/work\n",
      "jupyter_core @ file:///D:/bld/jupyter_core_1710257272359/work\n",
      "markdown-it-py==3.0.0\n",
      "MarkupSafe==2.1.5\n",
      "matplotlib-inline @ file:///home/conda/feedstock_root/build_artifacts/matplotlib-inline_1660814786464/work\n",
      "mdurl==0.1.2\n",
      "nest_asyncio @ file:///home/conda/feedstock_root/build_artifacts/nest-asyncio_1705850609492/work\n",
      "numpy==1.26.4\n",
      "packaging==23.2\n",
      "pandas==2.2.1\n",
      "parso @ file:///home/conda/feedstock_root/build_artifacts/parso_1638334955874/work\n",
      "pickleshare @ file:///home/conda/feedstock_root/build_artifacts/pickleshare_1602536217715/work\n",
      "pillow==10.2.0\n",
      "platformdirs @ file:///home/conda/feedstock_root/build_artifacts/platformdirs_1706713388748/work\n",
      "prompt-toolkit @ file:///home/conda/feedstock_root/build_artifacts/prompt-toolkit_1702399386289/work\n",
      "proto-plus==1.23.0\n",
      "protobuf==4.25.3\n",
      "psutil @ file:///C:/Windows/Temp/abs_b2c2fd7f-9fd5-4756-95ea-8aed74d0039flsd9qufz/croots/recipe/psutil_1656431277748/work\n",
      "pure-eval @ file:///home/conda/feedstock_root/build_artifacts/pure_eval_1642875951954/work\n",
      "pyarrow==15.0.2\n",
      "pyasn1==0.6.0\n",
      "pyasn1_modules==0.4.0\n",
      "pydantic==2.6.4\n",
      "pydantic_core==2.16.3\n",
      "pydeck==0.8.1b0\n",
      "Pygments @ file:///home/conda/feedstock_root/build_artifacts/pygments_1700607939962/work\n",
      "python-dateutil @ file:///home/conda/feedstock_root/build_artifacts/python-dateutil_1709299778482/work\n",
      "python-dotenv==1.0.1\n",
      "pytz==2024.1\n",
      "pywin32==305.1\n",
      "pyzmq @ file:///C:/b/abs_89aq69t0up/croot/pyzmq_1705605705281/work\n",
      "referencing==0.34.0\n",
      "requests==2.31.0\n",
      "rich==13.7.1\n",
      "rpds-py==0.18.0\n",
      "rsa==4.9\n",
      "six @ file:///home/conda/feedstock_root/build_artifacts/six_1620240208055/work\n",
      "smmap==5.0.1\n",
      "stack-data @ file:///home/conda/feedstock_root/build_artifacts/stack_data_1669632077133/work\n",
      "streamlit==1.32.2\n",
      "tenacity==8.2.3\n",
      "toml==0.10.2\n",
      "toolz==0.12.1\n",
      "tornado @ file:///D:/bld/tornado_1656937966227/work\n",
      "tqdm==4.66.2\n",
      "traitlets @ file:///home/conda/feedstock_root/build_artifacts/traitlets_1710254411456/work\n",
      "typing_extensions @ file:///home/conda/feedstock_root/build_artifacts/typing_extensions_1708904622550/work\n",
      "tzdata==2024.1\n",
      "urllib3==2.2.1\n",
      "watchdog==4.0.0\n",
      "wcwidth @ file:///home/conda/feedstock_root/build_artifacts/wcwidth_1704731205417/work\n",
      "zipp @ file:///home/conda/feedstock_root/build_artifacts/zipp_1695255097490/work\n"
     ]
    }
   ],
   "source": [
    "!pip freeze"
   ]
  },
  {
   "cell_type": "code",
   "execution_count": 22,
   "metadata": {},
   "outputs": [
    {
     "name": "stdout",
     "output_type": "stream",
     "text": [
      "System paths in Python script:\n",
      "d:\\GenAI\\Gemini_end_to_end_project\\End-to-End-Gemini-Project\n",
      "c:\\Users\\arjun.sreekumar\\AppData\\Local\\anaconda3\\envs\\gemini-pro\\python310.zip\n",
      "c:\\Users\\arjun.sreekumar\\AppData\\Local\\anaconda3\\envs\\gemini-pro\\DLLs\n",
      "c:\\Users\\arjun.sreekumar\\AppData\\Local\\anaconda3\\envs\\gemini-pro\\lib\n",
      "c:\\Users\\arjun.sreekumar\\AppData\\Local\\anaconda3\\envs\\gemini-pro\n",
      "\n",
      "c:\\Users\\arjun.sreekumar\\AppData\\Local\\anaconda3\\envs\\gemini-pro\\lib\\site-packages\n",
      "c:\\Users\\arjun.sreekumar\\AppData\\Local\\anaconda3\\envs\\gemini-pro\\lib\\site-packages\\win32\n",
      "c:\\Users\\arjun.sreekumar\\AppData\\Local\\anaconda3\\envs\\gemini-pro\\lib\\site-packages\\win32\\lib\n",
      "c:\\Users\\arjun.sreekumar\\AppData\\Local\\anaconda3\\envs\\gemini-pro\\lib\\site-packages\\Pythonwin\n"
     ]
    }
   ],
   "source": [
    "import sys\n",
    "print(\"System paths in Python script:\")\n",
    "for path in sys.path:\n",
    "    print(path)\n"
   ]
  }
 ],
 "metadata": {
  "kernelspec": {
   "display_name": "gemini-pro",
   "language": "python",
   "name": "python3"
  },
  "language_info": {
   "codemirror_mode": {
    "name": "ipython",
    "version": 3
   },
   "file_extension": ".py",
   "mimetype": "text/x-python",
   "name": "python",
   "nbconvert_exporter": "python",
   "pygments_lexer": "ipython3",
   "version": "3.10.0"
  }
 },
 "nbformat": 4,
 "nbformat_minor": 2
}
