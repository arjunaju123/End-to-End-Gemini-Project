{
 "cells": [
  {
   "cell_type": "code",
   "execution_count": 2,
   "metadata": {},
   "outputs": [
    {
     "name": "stdout",
     "output_type": "stream",
     "text": [
      "OK\n"
     ]
    }
   ],
   "source": [
    "print(\"OK\")"
   ]
  },
  {
   "cell_type": "code",
   "execution_count": 3,
   "metadata": {},
   "outputs": [
    {
     "name": "stderr",
     "output_type": "stream",
     "text": [
      "c:\\Users\\arjun.sreekumar\\AppData\\Local\\anaconda3\\envs\\gemini-pro\\lib\\site-packages\\tqdm\\auto.py:21: TqdmWarning: IProgress not found. Please update jupyter and ipywidgets. See https://ipywidgets.readthedocs.io/en/stable/user_install.html\n",
      "  from .autonotebook import tqdm as notebook_tqdm\n"
     ]
    }
   ],
   "source": [
    "# Q&A Chatbot\n",
    "#from langchain.llms import OpenAI\n",
    "\n",
    "from dotenv import load_dotenv\n",
    "\n",
    "load_dotenv()  # take environment variables from .env.\n",
    "\n",
    "import streamlit as st\n",
    "import os\n",
    "import pathlib\n",
    "import textwrap\n",
    "\n",
    "import google.generativeai as genai\n",
    "\n",
    "# from IPython.display import display\n",
    "from IPython.display import Markdown"
   ]
  },
  {
   "cell_type": "code",
   "execution_count": 4,
   "metadata": {},
   "outputs": [],
   "source": [
    "def to_markdown(text):\n",
    "  text = text.replace('•', '  *')\n",
    "  return Markdown(textwrap.indent(text, '> ', predicate=lambda _: True))\n",
    "\n",
    "os.getenv(\"GOOGLE_API_KEY\")\n",
    "genai.configure(api_key=os.getenv(\"GOOGLE_API_KEY\"))\n"
   ]
  },
  {
   "cell_type": "code",
   "execution_count": 5,
   "metadata": {},
   "outputs": [
    {
     "name": "stdout",
     "output_type": "stream",
     "text": [
      "models/gemini-1.0-pro\n",
      "models/gemini-1.0-pro-001\n",
      "models/gemini-1.0-pro-latest\n",
      "models/gemini-1.0-pro-vision-latest\n",
      "models/gemini-pro\n",
      "models/gemini-pro-vision\n"
     ]
    }
   ],
   "source": [
    "## Function to load OpenAI model and get respones\n",
    "for m in genai.list_models():\n",
    "  if 'generateContent' in m.supported_generation_methods:\n",
    "    print(m.name)"
   ]
  },
  {
   "cell_type": "code",
   "execution_count": 6,
   "metadata": {},
   "outputs": [],
   "source": [
    "def get_gemini_response(question):\n",
    "    model = genai.GenerativeModel('gemini-pro')\n",
    "    print(\"inside .........\")\n",
    "    response = model.generate_content(question)\n",
    "    print(\"response is \",response.text)\n",
    "    return response.text"
   ]
  },
  {
   "cell_type": "code",
   "execution_count": 7,
   "metadata": {},
   "outputs": [
    {
     "name": "stdout",
     "output_type": "stream",
     "text": [
      "inside .........\n",
      "response is  In the quaint, cobblestone town of Havenwood, nestled amidst rolling hills and whispering willows, there lived an enigmatic young woman named Anya. With her piercing blue eyes and a captivating aura, she possessed a secret that had long been concealed within the depths of her heart.\n",
      "\n",
      "One fateful evening, as the sun began its descent, Anya ventured into the ancient library that stood at the heart of the town. Its shelves were lined with dusty tomes, each holding tales of forgotten worlds and untold secrets. As she browsed through the countless volumes, a peculiar book caught her gaze. Its leather cover was adorned with intricate carvings, and its pages exuded a faint glow.\n",
      "\n",
      "Curiosity consumed Anya as she reached out to grasp the book. As her fingers brushed against its surface, a surge of energy coursed through her body. Suddenly, the pages began to flip rapidly, revealing a language she had never encountered before. To her astonishment, she found she could understand it.\n",
      "\n",
      "The words on the page whispered a tale of a hidden prophecy, a destiny that lay in Anya's hands. It foretold of a time when the veil between realms would thin, and a chosen one would rise to protect the balance between the mortal world and the mystical realm of Evermor.\n",
      "\n",
      "Anya's heart raced with both trepidation and a sense of purpose. She realized that she was the chosen one, destined to wield the power of this ancient prophecy. However, with great power came great responsibility, and the path ahead was fraught with danger.\n",
      "\n",
      "As the days turned into nights, Anya grappled with the weight of her newfound knowledge. She sought guidance from wise elders and delved deep into forbidden tomes. She honed her skills, preparing for the battles that lay ahead.\n",
      "\n",
      "Finally, the day of the prophecy arrived. The veil between realms grew thin, and creatures from Evermor began to infiltrate Havenwood. Anya stood tall, armed with her knowledge and unwavering determination. Alongside a band of brave companions, she fought valiantly against the invading forces, her magic coursing through her veins.\n",
      "\n",
      "In the end, Anya and her allies triumphed over evil. The prophecy was fulfilled, and the balance between the realms was restored. But the memory of that fateful encounter, and the destiny she had embraced, would forever be etched in the annals of Havenwood's history. And so, the enigmatic young woman from the cobblestone town became known as the Chosen One, a legend whispered among the people for generations to come.\n",
      "The Response is\n",
      "In the quaint, cobblestone town of Havenwood, nestled amidst rolling hills and whispering willows, there lived an enigmatic young woman named Anya. With her piercing blue eyes and a captivating aura, she possessed a secret that had long been concealed within the depths of her heart.\n",
      "\n",
      "One fateful evening, as the sun began its descent, Anya ventured into the ancient library that stood at the heart of the town. Its shelves were lined with dusty tomes, each holding tales of forgotten worlds and untold secrets. As she browsed through the countless volumes, a peculiar book caught her gaze. Its leather cover was adorned with intricate carvings, and its pages exuded a faint glow.\n",
      "\n",
      "Curiosity consumed Anya as she reached out to grasp the book. As her fingers brushed against its surface, a surge of energy coursed through her body. Suddenly, the pages began to flip rapidly, revealing a language she had never encountered before. To her astonishment, she found she could understand it.\n",
      "\n",
      "The words on the page whispered a tale of a hidden prophecy, a destiny that lay in Anya's hands. It foretold of a time when the veil between realms would thin, and a chosen one would rise to protect the balance between the mortal world and the mystical realm of Evermor.\n",
      "\n",
      "Anya's heart raced with both trepidation and a sense of purpose. She realized that she was the chosen one, destined to wield the power of this ancient prophecy. However, with great power came great responsibility, and the path ahead was fraught with danger.\n",
      "\n",
      "As the days turned into nights, Anya grappled with the weight of her newfound knowledge. She sought guidance from wise elders and delved deep into forbidden tomes. She honed her skills, preparing for the battles that lay ahead.\n",
      "\n",
      "Finally, the day of the prophecy arrived. The veil between realms grew thin, and creatures from Evermor began to infiltrate Havenwood. Anya stood tall, armed with her knowledge and unwavering determination. Alongside a band of brave companions, she fought valiantly against the invading forces, her magic coursing through her veins.\n",
      "\n",
      "In the end, Anya and her allies triumphed over evil. The prophecy was fulfilled, and the balance between the realms was restored. But the memory of that fateful encounter, and the destiny she had embraced, would forever be etched in the annals of Havenwood's history. And so, the enigmatic young woman from the cobblestone town became known as the Chosen One, a legend whispered among the people for generations to come.\n"
     ]
    }
   ],
   "source": [
    "input=\"tell me a story\"\n",
    "response=get_gemini_response(input)\n",
    "print(\"The Response is\")\n",
    "print(response)"
   ]
  }
 ],
 "metadata": {
  "kernelspec": {
   "display_name": "gemini-pro",
   "language": "python",
   "name": "python3"
  },
  "language_info": {
   "codemirror_mode": {
    "name": "ipython",
    "version": 3
   },
   "file_extension": ".py",
   "mimetype": "text/x-python",
   "name": "python",
   "nbconvert_exporter": "python",
   "pygments_lexer": "ipython3",
   "version": "3.10.0"
  }
 },
 "nbformat": 4,
 "nbformat_minor": 2
}
